{
 "cells": [
  {
   "cell_type": "raw",
   "metadata": {},
   "source": [
    "Tensors常量值函数\n",
    "tf.zeros(shape, dtype=tf.float32, name=None)\n",
    "tf.zeros_like(tensor, dtype=None, name=None)\n",
    "tf.ones(shape, dtype=tf.float32, name=None)\n",
    "tf.ones_like(tensor, dtype=None, name=None)\n",
    "tf.fill(dims, value, name=None)\n",
    "tf.constant(value, dtype=None, shape=None, name='Const')"
   ]
  },
  {
   "cell_type": "markdown",
   "metadata": {},
   "source": [
    "### tf.fill(dims, value, name=None)  \n",
    "创建一个维度为dims，值为value的tensor对象．该操作会创建一个维度为dims的tensor对象，并将其值设置为value，该tensor对象中的值类型和value一致\n",
    "当value为０时，该方法等同于tf.zeros()  \n",
    "当value为１时，该方法等同于tf.ones()"
   ]
  }
 ],
 "metadata": {
  "kernelspec": {
   "display_name": "Python 3",
   "language": "python",
   "name": "python3"
  },
  "language_info": {
   "codemirror_mode": {
    "name": "ipython",
    "version": 3
   },
   "file_extension": ".py",
   "mimetype": "text/x-python",
   "name": "python",
   "nbconvert_exporter": "python",
   "pygments_lexer": "ipython3",
   "version": "3.6.3"
  }
 },
 "nbformat": 4,
 "nbformat_minor": 2
}
