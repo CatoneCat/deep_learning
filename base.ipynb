{
 "cells": [
  {
   "cell_type": "markdown",
   "metadata": {},
   "source": [
    "### Tensors常量值函数  \n",
    "tf.zeros(shape, dtype=tf.float32, name=None)  \n",
    "tf.zeros_like(tensor, dtype=None, name=None)  \n",
    "tf.ones(shape, dtype=tf.float32, name=None)  \n",
    "tf.ones_like(tensor, dtype=None, name=None)  \n",
    "tf.fill(dims, value, name=None)  \n",
    "tf.constant(value, dtype=None, shape=None, name='Const')"
   ]
  },
  {
   "cell_type": "markdown",
   "metadata": {},
   "source": [
    "### tf.fill(dims, value, name=None)  \n",
    "创建一个维度为dims，值为value的tensor对象．该操作会创建一个维度为dims的tensor对象，并将其值设置为value，该tensor对象中的值类型和value一致\n",
    "当value为０时，该方法等同于tf.zeros()  \n",
    "当value为１时，该方法等同于tf.ones()"
   ]
  },
  {
   "cell_type": "markdown",
   "metadata": {},
   "source": [
    "### tf.Variable\n",
    "f.Variable.init(initial_value, trainable=True, collections=None, validate_shape=True, name=None)  \n",
    "initial_value: 变量的初始值  \n",
    "trainable: \t如果为True，会把它加入到GraphKeys.TRAINABLE_VARIABLES，才能对它使用Optimizer  \n",
    "collections: 指定该图变量的类型、默认为[GraphKeys.GLOBAL_VARIABLES]  \n",
    "validate_shape: 如果为False，则不进行类型和维度检查  \n",
    "name: 变量的名称，如果没有指定则系统会自动分配一个唯一的值"
   ]
  }
 ],
 "metadata": {
  "kernelspec": {
   "display_name": "Python 3",
   "language": "python",
   "name": "python3"
  },
  "language_info": {
   "codemirror_mode": {
    "name": "ipython",
    "version": 3
   },
   "file_extension": ".py",
   "mimetype": "text/x-python",
   "name": "python",
   "nbconvert_exporter": "python",
   "pygments_lexer": "ipython3",
   "version": "3.6.3"
  }
 },
 "nbformat": 4,
 "nbformat_minor": 2
}
